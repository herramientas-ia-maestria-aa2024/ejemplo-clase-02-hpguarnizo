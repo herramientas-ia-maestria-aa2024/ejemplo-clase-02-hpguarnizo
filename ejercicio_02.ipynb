{
 "cells": [
  {
   "cell_type": "code",
   "execution_count": 1,
   "id": "b594002c-6a5f-4680-af73-7310a18e1405",
   "metadata": {},
   "outputs": [
    {
     "name": "stderr",
     "output_type": "stream",
     "text": [
      "/usr/lib/python3/dist-packages/scipy/__init__.py:146: UserWarning: A NumPy version >=1.17.3 and <1.25.0 is required for this version of SciPy (detected version 1.26.4\n",
      "  warnings.warn(f\"A NumPy version >={np_minversion} and <{np_maxversion}\"\n"
     ]
    }
   ],
   "source": [
    "import pandas as pd\n",
    "import numpy as np\n",
    "import matplotlib.pyplot as plt\n",
    "%matplotlib inline\n",
    "import scipy as sp"
   ]
  },
  {
   "cell_type": "code",
   "execution_count": 6,
   "id": "b353478f-42ec-402f-842c-a8574cbba17c",
   "metadata": {},
   "outputs": [],
   "source": [
    "import spacy"
   ]
  },
  {
   "cell_type": "code",
   "execution_count": 8,
   "id": "2dd1c376-94bc-4d59-90e2-c728496452c2",
   "metadata": {},
   "outputs": [],
   "source": [
    "nlp = spacy.load(\"es_core_news_sm\")"
   ]
  },
  {
   "cell_type": "code",
   "execution_count": 13,
   "id": "58e11c93-b255-4a04-8534-158787764e59",
   "metadata": {},
   "outputs": [],
   "source": [
    "archivo = 'discurso.txt'"
   ]
  },
  {
   "cell_type": "code",
   "execution_count": 14,
   "id": "16c7cdf2-fa66-4352-b48a-f7518a3641d9",
   "metadata": {},
   "outputs": [],
   "source": [
    "with open(archivo,'r', encoding = 'utf-8') as pdf:\n",
    "    texto = pdf.read()"
   ]
  },
  {
   "cell_type": "code",
   "execution_count": 15,
   "id": "c0e4e9ea-dd99-4529-94fb-3da4e809a3c1",
   "metadata": {},
   "outputs": [],
   "source": [
    "documento= nlp(texto)"
   ]
  },
  {
   "cell_type": "code",
   "execution_count": 16,
   "id": "e93d83f5-a888-46ea-9563-5f8f229462a8",
   "metadata": {},
   "outputs": [
    {
     "name": "stdout",
     "output_type": "stream",
     "text": [
      "Como ya no estaba matriculado y no tenía clases obligatorias, decidí atender al curso de caligrafía para aprender cómo se hacía.\n",
      "Aprendí cosas sobre el serif y tipografías sans serif, sobre los espacios variables entre letras, sobre qué hace realmente grande a una gran tipografía.\n",
      "Era sutilmente bello, histórica y artísticamente, de una forma que la ciencia no puede capturar, y lo encontré fascinante.\n",
      "Nada de esto tenía ni la más mínima esperanza de aplicación práctica en mi vida.\n",
      "Pero diez años más tarde, cuando estábamos diseñando el primer ordenador Macintosh, todo eso volvió a mí.\n",
      "Y diseñamos el Mac con eso en su esencia.\n",
      "Fue el primer ordenador con tipografías bellas.\n",
      "Si nunca me hubiera dejado caer por aquel curso concreto en la universidad, el Mac jamás habría tenido múltiples tipografías, ni caracteres con espaciado proporcional.\n",
      "Y como Windows no hizo más que copiar el Mac, es probable que ningún ordenador personal los tuviera ahora.\n",
      "Si nunca hubiera decidido dejarlo, no habría entrado en esa clase de caligrafía y los ordenadores personales no tendrían la maravillosa tipografía que poseen.\n",
      "\n"
     ]
    }
   ],
   "source": [
    "for l in documento.sents:\n",
    "    print(l)"
   ]
  },
  {
   "cell_type": "code",
   "execution_count": 19,
   "id": "15708121-f1bc-4fe3-bc9d-e8b0aea38fd8",
   "metadata": {},
   "outputs": [
    {
     "name": "stdout",
     "output_type": "stream",
     "text": [
      "Aprendí\n",
      "tipografías sans serif\n",
      "qué\n",
      "Era sutilmente bello\n",
      "Nada de esto tenía\n",
      "Macintosh\n",
      "Mac\n",
      "Si nunca me hubiera dejado caer\n",
      "Mac\n",
      "Windows\n",
      "Mac\n",
      "Si nunca hubiera decidido dejarlo\n"
     ]
    }
   ],
   "source": [
    "for l in documento.ents:\n",
    "    print(l.text)"
   ]
  }
 ],
 "metadata": {
  "kernelspec": {
   "display_name": "Python 3 (ipykernel)",
   "language": "python",
   "name": "python3"
  },
  "language_info": {
   "codemirror_mode": {
    "name": "ipython",
    "version": 3
   },
   "file_extension": ".py",
   "mimetype": "text/x-python",
   "name": "python",
   "nbconvert_exporter": "python",
   "pygments_lexer": "ipython3",
   "version": "3.10.12"
  }
 },
 "nbformat": 4,
 "nbformat_minor": 5
}
